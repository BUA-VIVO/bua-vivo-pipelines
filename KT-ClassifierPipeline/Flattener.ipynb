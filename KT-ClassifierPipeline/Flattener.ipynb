{
 "cells": [
  {
   "cell_type": "code",
   "execution_count": 2,
   "metadata": {
    "ExecuteTime": {
     "end_time": "2023-09-06T10:51:47.692536Z",
     "start_time": "2023-09-06T10:51:47.684813Z"
    }
   },
   "outputs": [],
   "source": [
    "import json\n",
    "from pathlib import Path\n"
   ]
  },
  {
   "cell_type": "code",
   "execution_count": 2,
   "metadata": {
    "ExecuteTime": {
     "end_time": "2023-09-06T09:55:33.963681Z",
     "start_time": "2023-09-06T09:55:33.956275Z"
    }
   },
   "outputs": [],
   "source": [
    "splitPath = Path('splits')\n",
    "jsonList = [x for x in splitPath.glob('*.json')]"
   ]
  },
  {
   "cell_type": "code",
   "execution_count": 3,
   "metadata": {
    "ExecuteTime": {
     "end_time": "2023-09-06T09:55:33.970256Z",
     "start_time": "2023-09-06T09:55:33.965510Z"
    }
   },
   "outputs": [],
   "source": [
    "singleJSON = []\n",
    "dualJSON = []\n",
    "tripJSON = []\n",
    "fullJSON = []\n",
    "counter = 1"
   ]
  },
  {
   "cell_type": "code",
   "execution_count": 4,
   "metadata": {
    "ExecuteTime": {
     "end_time": "2023-09-06T09:55:34.007818Z",
     "start_time": "2023-09-06T09:55:33.969939Z"
    }
   },
   "outputs": [],
   "source": [
    "# # Single / Dual \n",
    "# for jPath in jsonList:\n",
    "#     with open(jPath) as fp:\n",
    "#         j = json.load(fp)\n",
    "#     for pdf in j:\n",
    "#         pdfDictsingle = {}\n",
    "#         pdfDictsingle['identifier'] = pdf['identifier']\n",
    "#         pdfDictsingle['title'] = pdf['title']\n",
    "#         pdfDictsingle['text'] = pdf['text']\n",
    "#         pdfDictsingle['categories'] = []\n",
    "#         pdfDictdual = {}\n",
    "#         pdfDictdual['identifier'] = pdf['identifier']\n",
    "#         pdfDictdual['title'] = pdf['title']\n",
    "#         pdfDictdual['text'] = pdf['text']\n",
    "#         pdfDictdual['categories'] = []\n",
    "#         pdfDicttrip = {}\n",
    "#         pdfDicttrip['identifier'] = pdf['identifier']\n",
    "#         pdfDicttrip['title'] = pdf['title']\n",
    "#         pdfDicttrip['text'] = pdf['text']\n",
    "#         pdfDicttrip['categories'] = []\n",
    "#         for cat in pdf['categories']:\n",
    "#             firstSplit = cat['label'].split('.')[0]\n",
    "#             try:\n",
    "#                 secondSplit = cat['label'].split('.')[1].split('.')[0]\n",
    "#             except:\n",
    "#                 secondSplit = ''\n",
    "#             singleCat = firstSplit\n",
    "#             dualCat = str(f'{firstSplit}.{secondSplit}').strip('.')\n",
    "#             tripleCat = cat['label'].rsplit('.',1)[0].strip('.')\n",
    "#             print(tripleCat)\n",
    "\n",
    "#             catDictsingle= {}\n",
    "#             catDictsingle['score'] = 1\n",
    "#             catDictsingle['label'] = singleCat\n",
    "#             catDictdual = {}\n",
    "#             catDictdual['score'] = 1\n",
    "#             catDictdual['label'] = dualCat\n",
    "#             catDicttrip = {}\n",
    "#             catDicttrip['score'] = 1\n",
    "#             catDicttrip['label'] = tripleCat\n",
    "#             # Single\n",
    "#             if catDictsingle not in pdfDictsingle['categories']:\n",
    "#                 pdfDictsingle['categories'].append(catDictsingle)\n",
    "#             # Dual\n",
    "#             if catDictdual not in pdfDictdual['categories']:\n",
    "#                 pdfDictdual['categories'].append(catDictdual)\n",
    "#             if catDictsingle not in pdfDictdual['categories']:\n",
    "#                 pdfDictdual['categories'].append(catDictsingle)\n",
    "#             # Triple\n",
    "#             if catDictsingle not in pdfDicttrip['categories']:\n",
    "#                 pdfDicttrip['categories'].append(catDictsingle)\n",
    "#             if catDictdual not in pdfDicttrip['categories']:\n",
    "#                 pdfDicttrip['categories'].append(catDictdual)\n",
    "#             if catDicttrip not in pdfDicttrip['categories']:\n",
    "#                 pdfDicttrip['categories'].append(catDicttrip)\n",
    "#         singleJSON.append(pdfDictsingle)\n",
    "#         dualJSON.append(pdfDictdual)\n",
    "#         tripJSON.append(pdfDictdual)\n",
    "#         if len(singleJSON) == 100:\n",
    "#             # with open('splits/single/KairntechSingle'+str(counter)+'.json', 'w+') as fp:\n",
    "#             #     json.dump(singleJSON,fp) \n",
    "#             # with open('splits/dual/KairntechDual'+str(counter)+'.json', 'w+') as fp:\n",
    "#             #     json.dump(dualJSON,fp) \n",
    "#             with open('splits/full/KairntechFull'+str(counter)+'.json', 'w+') as fp:\n",
    "#                 json.dump(dualJSON,fp) \n",
    "#             counter += 1\n",
    "#             singleJSON = []\n",
    "#             dualJSON = []"
   ]
  },
  {
   "cell_type": "code",
   "execution_count": 5,
   "metadata": {
    "ExecuteTime": {
     "end_time": "2023-09-06T09:55:58.756030Z",
     "start_time": "2023-09-06T09:55:34.012849Z"
    }
   },
   "outputs": [
    {
     "ename": "KeyboardInterrupt",
     "evalue": "",
     "output_type": "error",
     "traceback": [
      "\u001B[0;31m---------------------------------------------------------------------------\u001B[0m",
      "\u001B[0;31mKeyboardInterrupt\u001B[0m                         Traceback (most recent call last)",
      "Cell \u001B[0;32mIn[5], line 5\u001B[0m\n\u001B[1;32m      3\u001B[0m counter \u001B[38;5;241m=\u001B[39m \u001B[38;5;241m1\u001B[39m\n\u001B[1;32m      4\u001B[0m \u001B[38;5;28;01mfor\u001B[39;00m jPath \u001B[38;5;129;01min\u001B[39;00m jsonList:\n\u001B[0;32m----> 5\u001B[0m     \u001B[38;5;28;01mwith\u001B[39;00m \u001B[38;5;28mopen\u001B[39m(jPath,encoding\u001B[38;5;241m=\u001B[39m\u001B[38;5;124m'\u001B[39m\u001B[38;5;124mutf-8\u001B[39m\u001B[38;5;124m'\u001B[39m) \u001B[38;5;28;01mas\u001B[39;00m fp:\n\u001B[1;32m      6\u001B[0m         j \u001B[38;5;241m=\u001B[39m json\u001B[38;5;241m.\u001B[39mload(fp)\n\u001B[1;32m      7\u001B[0m     \u001B[38;5;28;01mfor\u001B[39;00m pdf \u001B[38;5;129;01min\u001B[39;00m j:\n",
      "\u001B[0;31mKeyboardInterrupt\u001B[0m: "
     ]
    }
   ],
   "source": [
    "# Full \n",
    "fullJSON = []\n",
    "counter = 1\n",
    "for jPath in jsonList:\n",
    "    with open(jPath,encoding='utf-8') as fp:\n",
    "        j = json.load(fp)\n",
    "    for pdf in j:\n",
    "        pdfDictfull = {}\n",
    "        pdfDictfull['identifier'] = pdf['identifier']\n",
    "        pdfDictfull['title'] = pdf['title']\n",
    "        pdfDictfull['text'] = pdf['text']\n",
    "        pdfDictfull['categories'] = []\n",
    "        for cat in pdf['categories']:\n",
    "            label = cat['label']\n",
    "            catDict= {}\n",
    "            catDict['score'] = 1\n",
    "            catDict['label'] = label # tiefste Ebene\n",
    "            if catDict not in pdfDictfull['categories']:\n",
    "                pdfDictfull['categories'].append(catDict)\n",
    "            while '.' in label:\n",
    "                label = label.rsplit('.',1)[0].strip('.')\n",
    "                catDict= {}\n",
    "                catDict['score'] = 1\n",
    "                catDict['label'] = label\n",
    "                if catDict not in pdfDictfull['categories']:\n",
    "                    pdfDictfull['categories'].append(catDict)\n",
    "        fullJSON.append(pdfDictfull)\n",
    "    if len(fullJSON) == 100:\n",
    "        with open('splits/full/KairntechFull'+str(counter)+'.json', 'w+') as fp:\n",
    "            json.dump(fullJSON,fp) \n",
    "        counter += 1\n",
    "        fullJSON = []\n",
    "with open('splits/full/KairntechFull'+str(counter)+'.json', 'w+') as fp:\n",
    "    json.dump(fullJSON,fp) #last Batch\n",
    "            "
   ]
  },
  {
   "cell_type": "code",
   "execution_count": 3,
   "metadata": {
    "ExecuteTime": {
     "end_time": "2023-09-06T10:52:14.642862Z",
     "start_time": "2023-09-06T10:52:03.819329Z"
    }
   },
   "outputs": [
    {
     "name": "stdout",
     "output_type": "stream",
     "text": [
      "len(cats)=333\n"
     ]
    },
    {
     "data": {
      "text/plain": "{'b2find#2.3.2': 974,\n 'b2find#2.3': 1449,\n 'b2find#2': 3752,\n 'b2find#4.4.5.02': 1268,\n 'b2find#4.4.5': 1452,\n 'b2find#4.4': 2743,\n 'b2find#4': 6507,\n 'b2find#5.4': 2467,\n 'b2find#5': 5904,\n 'b2find#5.4.3': 1260,\n 'b2find#3.1.1.01': 2531,\n 'b2find#3.1.1': 3159,\n 'b2find#3.1': 4526,\n 'b2find#3': 8218,\n 'b2find#3.2.1.05': 478,\n 'b2find#3.2.1': 1265,\n 'b2find#3.2': 5177,\n 'b2find#5.3.2.04': 981,\n 'b2find#5.3.2': 1405,\n 'b2find#5.3': 2156,\n 'b2find#5.4.1.02': 373,\n 'b2find#5.4.1': 532,\n 'b2find#5.4.2': 1038,\n 'b2find#5.3.2.05': 86,\n 'b2find#5.4.1.03': 55,\n 'b2find#3.2.2.23': 354,\n 'b2find#3.2.2': 3614,\n 'b2find#3.3.2.02': 1214,\n 'b2find#3.3.2': 1966,\n 'b2find#3.3': 3001,\n 'b2find#4.1': 2044,\n 'b2find#5.5.5': 546,\n 'b2find#5.5': 1202,\n 'b2find#1.6.2': 779,\n 'b2find#1.6': 1682,\n 'b2find#1': 5732,\n 'b2find#1.8': 655,\n 'b2find#3.3.1.03': 466,\n 'b2find#3.3.1': 1313,\n 'b2find#1.8.3': 366,\n 'b2find#3.1.2.05': 1140,\n 'b2find#3.1.2': 1905,\n 'b2find#3.1.3.05': 840,\n 'b2find#3.1.3': 2087,\n 'b2find#3.2.2.09': 317,\n 'b2find#3.2.2.15': 97,\n 'b2find#3.2.2.17': 403,\n 'b2find#5.2.1.04': 44,\n 'b2find#5.2.1': 540,\n 'b2find#5.2': 1094,\n 'b2find#4.1.5': 506,\n 'b2find#3.2.2.16': 245,\n 'b2find#2.4.1': 26,\n 'b2find#2.4': 931,\n 'b2find#2.4.2': 104,\n 'b2find#3.2.2.03': 657,\n 'b2find#3.2.2.22': 296,\n 'b2find#3.3.2.04': 790,\n 'b2find#1.3.1': 158,\n 'b2find#1.3': 1417,\n 'b2find#1.4.1': 151,\n 'b2find#1.4': 345,\n 'b2find#1.4.2': 167,\n 'b2find#1.5.2': 189,\n 'b2find#1.5': 1033,\n 'b2find#2.2.2': 275,\n 'b2find#2.2': 684,\n 'b2find#2.3.3': 88,\n 'b2find#4.2.2': 891,\n 'b2find#4.2': 1941,\n 'b2find#2.1.1': 159,\n 'b2find#2.1': 788,\n 'b2find#2.1.3': 642,\n 'b2find#3.2.2.08': 77,\n 'b2find#5.3.1.03': 19,\n 'b2find#5.3.1': 852,\n 'b2find#4.2.1': 276,\n 'b2find#4.3.3': 40,\n 'b2find#4.3': 1032,\n 'b2find#1.1.3': 1603,\n 'b2find#1.1': 1832,\n 'b2find#1.2.2': 214,\n 'b2find#1.2': 1946,\n 'b2find#5.5.2': 73,\n 'b2find#4.2.3': 444,\n 'b2find#3.2.3.06': 273,\n 'b2find#3.2.3': 722,\n 'b2find#5.3.1.04': 717,\n 'b2find#5.4.3.06': 297,\n 'b2find#1.5.9': 569,\n 'b2find#4.4.2.03': 504,\n 'b2find#4.4.2': 788,\n 'b2find#4.4.7': 400,\n 'b2find#1.1.1': 278,\n 'b2find#1.2.1': 480,\n 'b2find#4.2.6.03': 291,\n 'b2find#4.2.6': 480,\n 'b2find#1.3.7': 526,\n 'b2find#1.7.4': 59,\n 'b2find#1.7': 629,\n 'b2find#5.3.1.05': 65,\n 'b2find#2.2.1': 259,\n 'b2find#2.2.3': 174,\n 'b2find#3.2.2.18': 208,\n 'b2find#3.2.3.04': 138,\n 'b2find#3.2.3.07': 150,\n 'b2find#5.1.2.02': 1140,\n 'b2find#5.1.2': 1264,\n 'b2find#5.1': 1597,\n 'b2find#2.4.6': 91,\n 'b2find#4.4.7.03': 70,\n 'b2find#2.2.4': 190,\n 'b2find#3.1.1.05': 456,\n 'b2find#4.1.1.01': 71,\n 'b2find#4.1.1': 278,\n 'b2find#4.3.5': 401,\n 'b2find#5.1.1.02': 50,\n 'b2find#5.1.1': 356,\n 'b2find#3.1.1.03': 317,\n 'b2find#3.1.2.06': 206,\n 'b2find#1.3.2': 314,\n 'b2find#5.4.3.07': 199,\n 'b2find#4.1.4': 425,\n 'b2find#2.5.6': 343,\n 'b2find#2.5': 664,\n 'b2find#2.3.4': 216,\n 'b2find#3.1.2.07': 67,\n 'b2find#5.2.2.03': 510,\n 'b2find#5.2.2': 616,\n 'b2find#4.4.2.04': 12,\n 'b2find#3.1.2.02': 141,\n 'b2find#3.1.3.03': 379,\n 'b2find#3.3.1.04': 132,\n 'b2find#4.4.7.02': 180,\n 'b2find#4.4.1.01': 169,\n 'b2find#4.4.1': 301,\n 'b2find#4.4.3.01': 83,\n 'b2find#4.4.3': 239,\n 'b2find#3.2.2.30': 169,\n 'b2find#5.2.1.01': 408,\n 'b2find#4.2.5': 243,\n 'b2find#2.4.5': 213,\n 'b2find#2.5.5': 208,\n 'b2find#4.4.5.04': 8,\n 'b2find#5.4.3.04': 76,\n 'b2find#5.5.4': 58,\n 'b2find#4.4.2.02': 141,\n 'b2find#5.5.1': 169,\n 'b2find#3.2.2.14': 136,\n 'b2find#3.3.1.09': 463,\n 'b2find#3.2.3.09': 40,\n 'b2find#4.1.1.02': 103,\n 'b2find#3.2.1.01': 142,\n 'b2find#3.1.2.01': 132,\n 'b2find#3.1.3.02': 113,\n 'b2find#5.1.1.05': 77,\n 'b2find#1.2.4': 73,\n 'b2find#1.5.8': 236,\n 'b2find#2.3.1': 68,\n 'b2find#3.2.2.11': 358,\n 'b2find#3.1.1.02': 50,\n 'b2find#3.1.1.06': 170,\n 'b2find#3.2.3.01': 64,\n 'b2find#4.1.5.01': 19,\n 'b2find#3.1.1.08': 413,\n 'b2find#1.6.1': 443,\n 'b2find#4.3.2': 44,\n 'b2find#2.5.1': 125,\n 'b2find#1.4.4': 225,\n 'b2find#1.5.1': 22,\n 'b2find#1.6.3': 130,\n 'b2find#1.3.4': 118,\n 'b2find#5.4.1.01': 58,\n 'b2find#1.2.3': 37,\n 'b2find#5.3.2.02': 154,\n 'b2find#1.3.9': 128,\n 'b2find#1.8.2': 261,\n 'b2find#4.4.2.01': 55,\n 'b2find#3.1.2.04': 154,\n 'b2find#3.3.1.02': 222,\n 'b2find#4.1.5.02': 126,\n 'b2find#1.2.5': 70,\n 'b2find#4.2.5.10': 77,\n 'b2find#5.2.1.03': 20,\n 'b2find#4.4.7.01': 34,\n 'b2find#3.1.2.03': 142,\n 'b2find#4.1.6.02': 77,\n 'b2find#4.1.6': 149,\n 'b2find#4.2.6.01': 59,\n 'b2find#4.4.1.02': 64,\n 'b2find#4.4.1.03': 55,\n 'b2find#4.4.4.01': 40,\n 'b2find#4.4.4': 92,\n 'b2find#4.4.6': 68,\n 'b2find#5.3.2.01': 115,\n 'b2find#4.1.3.01': 96,\n 'b2find#4.1.3': 285,\n 'b2find#1.5.6': 129,\n 'b2find#3.2.3.08': 231,\n 'b2find#4.2.5.08': 66,\n 'b2find#4.4.5.06': 25,\n 'b2find#4.1.2.03': 135,\n 'b2find#4.1.2': 352,\n 'b2find#4.2.4': 109,\n 'b2find#5.1.1.04': 34,\n 'b2find#4.1.2.02': 137,\n 'b2find#1.7.1': 205,\n 'b2find#5.5.3': 28,\n 'b2find#4.4.5.03': 53,\n 'b2find#3.2.1.03': 368,\n 'b2find#3.2.2.13': 28,\n 'b2find#5.4.3.01': 146,\n 'b2find#3.2.2.12': 84,\n 'b2find#1.8.1': 187,\n 'b2find#4.1.2.01': 80,\n 'b2find#3.1.1.04': 37,\n 'b2find#3.2.2.04': 142,\n 'b2find#3.2.3.02': 51,\n 'b2find#3.2.3.03': 116,\n 'b2find#2.4.4': 155,\n 'b2find#5.4.2.02': 54,\n 'b2find#5.4.2.04': 53,\n 'b2find#1.1.2': 77,\n 'b2find#1.1.4': 19,\n 'b2find#1.1.5': 32,\n 'b2find#3.3.1.05': 26,\n 'b2find#5.2.2.02': 62,\n 'b2find#3.1.3.01': 89,\n 'b2find#5.4.2.03': 90,\n 'b2find#1.7.5': 23,\n 'b2find#1.7.6': 11,\n 'b2find#3.3.1.12': 35,\n 'b2find#3.3.1.07': 20,\n 'b2find#4.2.5.09': 12,\n 'b2find#5.4.3.02': 58,\n 'b2find#5.4.3.05': 17,\n 'b2find#3.2.3.05': 52,\n 'b2find#4.2.1.01': 94,\n 'b2find#1.3.5': 62,\n 'b2find#4.4.2.06': 154,\n 'b2find#4.1.3.02': 183,\n 'b2find#4.1.6.01': 89,\n 'b2find#2.1.2': 47,\n 'b2find#4.2.1.02': 46,\n 'b2find#3.3.1.11': 51,\n 'b2find#5.4.1.05': 24,\n 'b2find#3.2.1.04': 78,\n 'b2find#4.4.5.05': 67,\n 'b2find#3.3.2.01': 80,\n 'b2find#2.5.2': 20,\n 'b2find#1.1.6': 86,\n 'b2find#3.2.2.21': 52,\n 'b2find#2.4.3': 56,\n 'b2find#2.4.7': 55,\n 'b2find#4.4.1.05': 24,\n 'b2find#1.7.3': 31,\n 'b2find#4.4.3.02': 53,\n 'b2find#4.3.1': 29,\n 'b2find#1.7.7': 30,\n 'b2find#5.2.2.01': 46,\n 'b2find#3.3.1.01': 36,\n 'b2find#3.1.1.07': 102,\n 'b2find#3.1.1.09': 46,\n 'b2find#3.2.1.02': 49,\n 'b2find#3.2.2.01': 70,\n 'b2find#5.4.3.03': 114,\n 'b2find#5.3.2.03': 150,\n 'b2find#5.4.2.01': 32,\n 'b2find#5.2.1.02': 96,\n 'b2find#1.7.8': 33,\n 'b2find#5.4.1.04': 17,\n 'b2find#2.5.3': 50,\n 'b2find#1.7.2': 25,\n 'b2find#1.3.8': 78,\n 'b2find#3.2.2.07': 120,\n 'b2find#3.2.2.05': 47,\n 'b2find#3.3.2.03': 51,\n 'b2find#1.6.4': 1,\n 'b2find#5.1.2.03': 30,\n 'b2find#5.1.1.01': 17,\n 'b2find#5.1.2.01': 28,\n 'b2find#4.4.1.06': 51,\n 'b2find#4.2.5.05': 18,\n 'b2find#4.2.5.11': 37,\n 'b2find#3.1.3.06': 68,\n 'b2find#1.5.5': 11,\n 'b2find#3.2.2.19': 19,\n 'b2find#3.3.1.08': 91,\n 'b2find#4.2.5.02': 12,\n 'b2find#3.3.1.06': 3,\n 'b2find#4.4.5.01': 50,\n 'b2find#1.3.3': 6,\n 'b2find#5.5.6': 16,\n 'b2find#1.5.3': 22,\n 'b2find#4.1.6.03': 11,\n 'b2find#3.2.2.24': 33,\n 'b2find#5.3.1.01': 30,\n 'b2find#3.2.2.02': 25,\n 'b2find#3.2.2.20': 17,\n 'b2find#4.4.4.02': 36,\n 'b2find#3.1.3.04': 27,\n 'b2find#3.2.3.11': 67,\n 'b2find#3.2.2.06': 13,\n 'b2find#3.2.2.32': 24,\n 'b2find#4.3.4': 10,\n 'b2find#4.4.1.04': 24,\n 'b2find#4.2.5.01': 29,\n 'b2find#4.4.5.07': 2,\n 'b2find#1.4.3': 10,\n 'b2find#4.2.5.06': 18,\n 'b2find#4.4.4.03': 15,\n 'b2find#4.2.5.07': 1,\n 'b2find#2.5.4': 30,\n 'b2find#3.2.2.26': 5,\n 'b2find#5.3.1.02': 24,\n 'b2find#4.2.6.04': 5,\n 'b2find#4.4.2.05': 9,\n 'b2find#3.2.2.10': 13,\n 'b2find#3.2.2.27': 13,\n 'b2find#5.1.2.04': 4,\n 'b2find#3.3.1.14': 9,\n 'b2find#3.2.2.31': 2,\n 'b2find#3.3.1.13': 8,\n 'b2find#4.2.5.04': 2,\n 'b2find#1.3.6': 6,\n 'b2find#3.2.2.29': 4,\n 'b2find#5.1.1.03': 2,\n 'b2find#3.2.2.28': 3,\n 'b2find#3.3.1.10': 13,\n 'b2find#3.2.3.10': 4,\n 'b2find#4.2.6.02': 1,\n 'b2find#1.5.4': 1,\n 'b2find#3.2.2.25': 1}"
     },
     "execution_count": 3,
     "metadata": {},
     "output_type": "execute_result"
    }
   ],
   "source": [
    "## Full without Low Count Cats\n",
    "fullPath = Path('splits','full')\n",
    "jsonList = [x for x in fullPath.glob('*.json')]\n",
    "\n",
    "cats = {}\n",
    "for jPath in jsonList:\n",
    "    with open(jPath,encoding='utf-8') as fp:\n",
    "        j = json.load(fp)\n",
    "    for pdfDict in j:\n",
    "        catList = pdfDict['categories']\n",
    "        labelList = [cat['label'] for cat in catList]\n",
    "        for label in labelList:\n",
    "            if label in cats:\n",
    "                cats[label] += 1\n",
    "            else:\n",
    "                cats[label] = 1\n",
    "\n",
    "print(f'{len(cats)=}')\n",
    "cats"
   ]
  },
  {
   "cell_type": "code",
   "execution_count": 4,
   "metadata": {
    "ExecuteTime": {
     "end_time": "2023-09-06T10:52:19.498820Z",
     "start_time": "2023-09-06T10:52:19.491566Z"
    }
   },
   "outputs": [],
   "source": [
    "cats100 = {k:v for k,v in cats.items() if v >= 100}\n",
    "cats50 = {k:v for k,v in cats.items() if v >= 50}\n",
    "cats25 = {k:v for k,v in cats.items() if v >= 25}"
   ]
  },
  {
   "cell_type": "code",
   "execution_count": null,
   "metadata": {
    "ExecuteTime": {
     "start_time": "2023-09-06T09:55:58.764320Z"
    }
   },
   "outputs": [],
   "source": [
    "with open('files/B2Find_corrected.json') as fp:\n",
    "    b2f = json.load(fp)"
   ]
  },
  {
   "cell_type": "code",
   "execution_count": 1,
   "metadata": {
    "ExecuteTime": {
     "end_time": "2023-09-06T10:17:50.906419Z",
     "start_time": "2023-09-06T10:17:50.556140Z"
    }
   },
   "outputs": [
    {
     "ename": "NameError",
     "evalue": "name 'cats' is not defined",
     "output_type": "error",
     "traceback": [
      "\u001B[0;31m---------------------------------------------------------------------------\u001B[0m",
      "\u001B[0;31mNameError\u001B[0m                                 Traceback (most recent call last)",
      "Cell \u001B[0;32mIn[1], line 1\u001B[0m\n\u001B[0;32m----> 1\u001B[0m missingCats \u001B[38;5;241m=\u001B[39m {k:\u001B[38;5;28mstr\u001B[39m(b2f[k][\u001B[38;5;124m'\u001B[39m\u001B[38;5;124mname_de\u001B[39m\u001B[38;5;124m'\u001B[39m])\u001B[38;5;241m+\u001B[39m\u001B[38;5;124m'\u001B[39m\u001B[38;5;124m - \u001B[39m\u001B[38;5;124m'\u001B[39m\u001B[38;5;241m+\u001B[39m\u001B[38;5;28mstr\u001B[39m(v) \u001B[38;5;28;01mfor\u001B[39;00m k,v \u001B[38;5;129;01min\u001B[39;00m \u001B[43mcats\u001B[49m\u001B[38;5;241m.\u001B[39mitems() \u001B[38;5;28;01mif\u001B[39;00m v \u001B[38;5;241m<\u001B[39m \u001B[38;5;241m50\u001B[39m}\n\u001B[1;32m      2\u001B[0m \u001B[38;5;28;01mimport\u001B[39;00m \u001B[38;5;21;01myaml\u001B[39;00m \n\u001B[1;32m      3\u001B[0m \u001B[38;5;28;01mwith\u001B[39;00m \u001B[38;5;28mopen\u001B[39m(\u001B[38;5;124m'\u001B[39m\u001B[38;5;124mless50.yaml\u001B[39m\u001B[38;5;124m'\u001B[39m,\u001B[38;5;124m'\u001B[39m\u001B[38;5;124mw+\u001B[39m\u001B[38;5;124m'\u001B[39m) \u001B[38;5;28;01mas\u001B[39;00m fp:\n",
      "\u001B[0;31mNameError\u001B[0m: name 'cats' is not defined"
     ]
    }
   ],
   "source": [
    "missingCats = {k:str(b2f[k]['name_de'])+' - '+str(v) for k,v in cats.items() if v < 50}\n",
    "import yaml \n",
    "with open('less50.yaml','w+') as fp:\n",
    "    yaml.dump(missingCats,fp)"
   ]
  },
  {
   "cell_type": "code",
   "execution_count": null,
   "metadata": {
    "ExecuteTime": {
     "start_time": "2023-09-06T09:55:58.770215Z"
    }
   },
   "outputs": [],
   "source": [
    "import plotly.express as px\n",
    "import pandas as pd\n",
    "df = pd.DataFrame.from_dict({'cats':cats.keys(),'counter':cats.values(),'catNames':[b2f[ckey]['name_de'] for ckey in cats.keys()]}).sort_values('counter',ascending=False)\n",
    "df100 = pd.DataFrame.from_dict({'cats':cats100.keys(),'counter':cats100.values(),'catNames':[b2f[ckey]['name_de'] for ckey in cats100.keys()]}).sort_values('counter',ascending=False)\n",
    "df50 = pd.DataFrame.from_dict({'cats':cats50.keys(),'counter':cats50.values(),'catNames':[b2f[ckey]['name_de'] for ckey in cats50.keys()]}).sort_values('counter',ascending=False)\n",
    "df25 = pd.DataFrame.from_dict({'cats':cats25.keys(),'counter':cats25.values(),'catNames':[b2f[ckey]['name_de'] for ckey in cats25.keys()]}).sort_values('counter',ascending=False)"
   ]
  },
  {
   "cell_type": "code",
   "execution_count": null,
   "metadata": {
    "ExecuteTime": {
     "start_time": "2023-09-06T09:55:58.772975Z"
    }
   },
   "outputs": [],
   "source": [
    "fig = px.bar(df,\n",
    "            x= list(df.cats), \n",
    "            y=list(df.counter),\n",
    "            hover_data=['catNames'],\n",
    "            labels={'y':'Number of PDFs','x':'B2Find'},)\n",
    "print(len(df))\n",
    "fig.show()"
   ]
  },
  {
   "cell_type": "code",
   "execution_count": null,
   "metadata": {
    "ExecuteTime": {
     "start_time": "2023-09-06T09:55:58.775721Z"
    }
   },
   "outputs": [],
   "source": [
    "fig50 = px.bar(list(df25.counter),x= list(df25.cats), y=list(df25.counter))\n",
    "print(len(df25))\n",
    "fig.show()"
   ]
  },
  {
   "cell_type": "code",
   "execution_count": null,
   "metadata": {
    "ExecuteTime": {
     "start_time": "2023-09-06T09:55:58.777679Z"
    }
   },
   "outputs": [],
   "source": [
    "fig50 = px.bar(list(df50.counter),x= list(df50.cats), y=list(df50.counter))\n",
    "print(len(df50))\n",
    "fig.show()"
   ]
  },
  {
   "cell_type": "code",
   "execution_count": null,
   "metadata": {
    "ExecuteTime": {
     "start_time": "2023-09-06T09:55:58.779543Z"
    }
   },
   "outputs": [],
   "source": [
    "fig = px.bar(list(df100.counter),x= list(df100.cats), y=list(df100.counter))\n",
    "print(len(df100))\n",
    "fig.show()"
   ]
  },
  {
   "cell_type": "code",
   "execution_count": 6,
   "metadata": {
    "ExecuteTime": {
     "end_time": "2023-09-06T10:52:51.178255Z",
     "start_time": "2023-09-06T10:52:51.169913Z"
    }
   },
   "outputs": [],
   "source": [
    "fullPath = Path('splits','full')\n",
    "jsonList = [x for x in fullPath.glob('*.json')]\n",
    "counter = 1 \n"
   ]
  },
  {
   "cell_type": "code",
   "execution_count": 7,
   "metadata": {
    "ExecuteTime": {
     "end_time": "2023-09-06T10:53:23.011903Z",
     "start_time": "2023-09-06T10:52:54.739719Z"
    }
   },
   "outputs": [],
   "source": [
    "import json\n",
    "for jPath in jsonList:\n",
    "    with open(jPath,encoding='utf-8') as fp:\n",
    "        j = json.load(fp)\n",
    "    newJ = []\n",
    "    for pdfDict in j:\n",
    "        newCatList = []\n",
    "        catList = pdfDict['categories']\n",
    "        for catDict in catList: \n",
    "            if catDict['label'] in cats50:\n",
    "                newCatList.append(catDict)\n",
    "        if newCatList:\n",
    "            pdfDict['categories'] = newCatList\n",
    "            newJ.append(pdfDict)\n",
    "    with open('splits/less50/Kairntech50Less'+str(counter)+'.json', 'w+' ) as fp:\n",
    "        json.dump(newJ,fp)\n",
    "    counter += 1"
   ]
  },
  {
   "cell_type": "code",
   "execution_count": null,
   "metadata": {
    "ExecuteTime": {
     "end_time": "2023-09-06T09:55:58.816968Z",
     "start_time": "2023-09-06T09:55:58.785568Z"
    }
   },
   "outputs": [],
   "source": []
  }
 ],
 "metadata": {
  "kernelspec": {
   "display_name": "Python 3",
   "language": "python",
   "name": "python3"
  },
  "language_info": {
   "codemirror_mode": {
    "name": "ipython",
    "version": 3
   },
   "file_extension": ".py",
   "mimetype": "text/x-python",
   "name": "python",
   "nbconvert_exporter": "python",
   "pygments_lexer": "ipython3",
   "version": "3.10.0"
  },
  "orig_nbformat": 4
 },
 "nbformat": 4,
 "nbformat_minor": 2
}
