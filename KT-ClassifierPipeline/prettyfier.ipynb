{
 "cells": [
  {
   "cell_type": "code",
   "execution_count": 1,
   "metadata": {},
   "outputs": [],
   "source": [
    "from pathlib import Path\n",
    "import fitz\n",
    "from tqdm import tqdm\n",
    "from functions.tools import jsonHandler\n",
    "import ipywidgets as widgets\n",
    "import pandas as pd\n",
    "import plotly.express as px\n",
    "import plotly.graph_objects as go  \n",
    "from IPython.display import Markdown"
   ]
  },
  {
   "cell_type": "code",
   "execution_count": 2,
   "metadata": {},
   "outputs": [
    {
     "ename": "type",
     "evalue": "Expecting ',' delimiter: line 1 column 1202249541 (char 1202249540)",
     "output_type": "error",
     "traceback": [
      "\u001b[1;31m---------------------------------------------------------------------------\u001b[0m",
      "\u001b[1;31mJSONDecodeError\u001b[0m                           Traceback (most recent call last)",
      "\u001b[1;32mC:\\Users\\FLORIA~1\\AppData\\Local\\Temp/ipykernel_22860/140963728.py\u001b[0m in \u001b[0;36m<module>\u001b[1;34m\u001b[0m\n\u001b[0;32m      6\u001b[0m \u001b[0mdewey\u001b[0m \u001b[1;33m=\u001b[0m \u001b[0mjsonHandler\u001b[0m\u001b[1;33m(\u001b[0m\u001b[0mpath\u001b[0m\u001b[1;33m=\u001b[0m\u001b[0mPath\u001b[0m\u001b[1;33m(\u001b[0m\u001b[0mfilesPath\u001b[0m\u001b[1;33m,\u001b[0m \u001b[1;34m'dewey.json'\u001b[0m\u001b[1;33m)\u001b[0m\u001b[1;33m,\u001b[0m\u001b[0mdefaultContent\u001b[0m\u001b[1;33m=\u001b[0m\u001b[1;33m[\u001b[0m\u001b[1;33m]\u001b[0m\u001b[1;33m)\u001b[0m\u001b[1;33m\u001b[0m\u001b[1;33m\u001b[0m\u001b[0m\n\u001b[0;32m      7\u001b[0m \u001b[0medocRI\u001b[0m \u001b[1;33m=\u001b[0m \u001b[0mjsonHandler\u001b[0m\u001b[1;33m(\u001b[0m\u001b[0mpath\u001b[0m\u001b[1;33m=\u001b[0m\u001b[0mPath\u001b[0m\u001b[1;33m(\u001b[0m\u001b[0mfilesPath\u001b[0m\u001b[1;33m,\u001b[0m \u001b[1;34m'pdfUrlList.json'\u001b[0m\u001b[1;33m)\u001b[0m\u001b[1;33m,\u001b[0m\u001b[0mdefaultContent\u001b[0m\u001b[1;33m=\u001b[0m\u001b[1;33m[\u001b[0m\u001b[1;33m]\u001b[0m\u001b[1;33m)\u001b[0m\u001b[1;33m\u001b[0m\u001b[1;33m\u001b[0m\u001b[0m\n\u001b[1;32m----> 8\u001b[1;33m \u001b[0mKToutput\u001b[0m \u001b[1;33m=\u001b[0m \u001b[0mjsonHandler\u001b[0m\u001b[1;33m(\u001b[0m\u001b[0mpath\u001b[0m\u001b[1;33m=\u001b[0m\u001b[0mPath\u001b[0m\u001b[1;33m(\u001b[0m\u001b[0mfilesPath\u001b[0m\u001b[1;33m,\u001b[0m \u001b[1;34m'Kairntech.json'\u001b[0m\u001b[1;33m)\u001b[0m\u001b[1;33m,\u001b[0m\u001b[0mdefaultContent\u001b[0m\u001b[1;33m=\u001b[0m\u001b[1;33m[\u001b[0m\u001b[1;33m]\u001b[0m\u001b[1;33m)\u001b[0m\u001b[1;33m\u001b[0m\u001b[1;33m\u001b[0m\u001b[0m\n\u001b[0m\u001b[0;32m      9\u001b[0m \u001b[1;32mfrom\u001b[0m \u001b[0mIPython\u001b[0m\u001b[1;33m.\u001b[0m\u001b[0mdisplay\u001b[0m \u001b[1;32mimport\u001b[0m \u001b[0mclear_output\u001b[0m\u001b[1;33m\u001b[0m\u001b[1;33m\u001b[0m\u001b[0m\n",
      "\u001b[1;32mc:\\Users\\Florian Kotschka\\gitlab\\bua-onto\\kairntech\\ClassifierPipeline\\functions\\tools.py\u001b[0m in \u001b[0;36mjsonHandler\u001b[1;34m(path, defaultContent)\u001b[0m\n\u001b[0;32m      7\u001b[0m     \u001b[1;32mif\u001b[0m \u001b[0moutfilePath\u001b[0m\u001b[1;33m.\u001b[0m\u001b[0mis_file\u001b[0m\u001b[1;33m(\u001b[0m\u001b[1;33m)\u001b[0m\u001b[1;33m:\u001b[0m\u001b[1;33m\u001b[0m\u001b[1;33m\u001b[0m\u001b[0m\n\u001b[0;32m      8\u001b[0m         \u001b[1;32mwith\u001b[0m \u001b[0mopen\u001b[0m\u001b[1;33m(\u001b[0m\u001b[0moutfilePath\u001b[0m\u001b[1;33m,\u001b[0m\u001b[1;34m'r'\u001b[0m\u001b[1;33m)\u001b[0m \u001b[1;32mas\u001b[0m \u001b[0mfp\u001b[0m\u001b[1;33m:\u001b[0m\u001b[1;33m\u001b[0m\u001b[1;33m\u001b[0m\u001b[0m\n\u001b[1;32m----> 9\u001b[1;33m             \u001b[0mcontent\u001b[0m \u001b[1;33m=\u001b[0m \u001b[0mjson\u001b[0m\u001b[1;33m.\u001b[0m\u001b[0mload\u001b[0m\u001b[1;33m(\u001b[0m\u001b[0mfp\u001b[0m\u001b[1;33m)\u001b[0m\u001b[1;33m\u001b[0m\u001b[1;33m\u001b[0m\u001b[0m\n\u001b[0m\u001b[0;32m     10\u001b[0m     \u001b[1;32melse\u001b[0m\u001b[1;33m:\u001b[0m\u001b[1;33m\u001b[0m\u001b[1;33m\u001b[0m\u001b[0m\n\u001b[0;32m     11\u001b[0m         \u001b[1;32mwith\u001b[0m \u001b[0mopen\u001b[0m\u001b[1;33m(\u001b[0m\u001b[0moutfilePath\u001b[0m\u001b[1;33m,\u001b[0m\u001b[1;34m'w+'\u001b[0m\u001b[1;33m)\u001b[0m \u001b[1;32mas\u001b[0m \u001b[0mfp\u001b[0m\u001b[1;33m:\u001b[0m\u001b[1;33m\u001b[0m\u001b[1;33m\u001b[0m\u001b[0m\n",
      "\u001b[1;32mc:\\Program Files\\Python310\\lib\\json\\__init__.py\u001b[0m in \u001b[0;36mload\u001b[1;34m(fp, cls, object_hook, parse_float, parse_int, parse_constant, object_pairs_hook, **kw)\u001b[0m\n\u001b[0;32m    291\u001b[0m     \u001b[0mkwarg\u001b[0m\u001b[1;33m;\u001b[0m \u001b[0motherwise\u001b[0m\u001b[0;31m \u001b[0m\u001b[0;31m`\u001b[0m\u001b[0;31m`\u001b[0m\u001b[0mJSONDecoder\u001b[0m\u001b[0;31m`\u001b[0m\u001b[0;31m`\u001b[0m \u001b[1;32mis\u001b[0m \u001b[0mused\u001b[0m\u001b[1;33m.\u001b[0m\u001b[1;33m\u001b[0m\u001b[1;33m\u001b[0m\u001b[0m\n\u001b[0;32m    292\u001b[0m     \"\"\"\n\u001b[1;32m--> 293\u001b[1;33m     return loads(fp.read(),\n\u001b[0m\u001b[0;32m    294\u001b[0m         \u001b[0mcls\u001b[0m\u001b[1;33m=\u001b[0m\u001b[0mcls\u001b[0m\u001b[1;33m,\u001b[0m \u001b[0mobject_hook\u001b[0m\u001b[1;33m=\u001b[0m\u001b[0mobject_hook\u001b[0m\u001b[1;33m,\u001b[0m\u001b[1;33m\u001b[0m\u001b[1;33m\u001b[0m\u001b[0m\n\u001b[0;32m    295\u001b[0m         \u001b[0mparse_float\u001b[0m\u001b[1;33m=\u001b[0m\u001b[0mparse_float\u001b[0m\u001b[1;33m,\u001b[0m \u001b[0mparse_int\u001b[0m\u001b[1;33m=\u001b[0m\u001b[0mparse_int\u001b[0m\u001b[1;33m,\u001b[0m\u001b[1;33m\u001b[0m\u001b[1;33m\u001b[0m\u001b[0m\n",
      "\u001b[1;32mc:\\Program Files\\Python310\\lib\\json\\__init__.py\u001b[0m in \u001b[0;36mloads\u001b[1;34m(s, cls, object_hook, parse_float, parse_int, parse_constant, object_pairs_hook, **kw)\u001b[0m\n\u001b[0;32m    344\u001b[0m             \u001b[0mparse_int\u001b[0m \u001b[1;32mis\u001b[0m \u001b[1;32mNone\u001b[0m \u001b[1;32mand\u001b[0m \u001b[0mparse_float\u001b[0m \u001b[1;32mis\u001b[0m \u001b[1;32mNone\u001b[0m \u001b[1;32mand\u001b[0m\u001b[1;33m\u001b[0m\u001b[1;33m\u001b[0m\u001b[0m\n\u001b[0;32m    345\u001b[0m             parse_constant is None and object_pairs_hook is None and not kw):\n\u001b[1;32m--> 346\u001b[1;33m         \u001b[1;32mreturn\u001b[0m \u001b[0m_default_decoder\u001b[0m\u001b[1;33m.\u001b[0m\u001b[0mdecode\u001b[0m\u001b[1;33m(\u001b[0m\u001b[0ms\u001b[0m\u001b[1;33m)\u001b[0m\u001b[1;33m\u001b[0m\u001b[1;33m\u001b[0m\u001b[0m\n\u001b[0m\u001b[0;32m    347\u001b[0m     \u001b[1;32mif\u001b[0m \u001b[0mcls\u001b[0m \u001b[1;32mis\u001b[0m \u001b[1;32mNone\u001b[0m\u001b[1;33m:\u001b[0m\u001b[1;33m\u001b[0m\u001b[1;33m\u001b[0m\u001b[0m\n\u001b[0;32m    348\u001b[0m         \u001b[0mcls\u001b[0m \u001b[1;33m=\u001b[0m \u001b[0mJSONDecoder\u001b[0m\u001b[1;33m\u001b[0m\u001b[1;33m\u001b[0m\u001b[0m\n",
      "\u001b[1;32mc:\\Program Files\\Python310\\lib\\json\\decoder.py\u001b[0m in \u001b[0;36mdecode\u001b[1;34m(self, s, _w)\u001b[0m\n\u001b[0;32m    335\u001b[0m \u001b[1;33m\u001b[0m\u001b[0m\n\u001b[0;32m    336\u001b[0m         \"\"\"\n\u001b[1;32m--> 337\u001b[1;33m         \u001b[0mobj\u001b[0m\u001b[1;33m,\u001b[0m \u001b[0mend\u001b[0m \u001b[1;33m=\u001b[0m \u001b[0mself\u001b[0m\u001b[1;33m.\u001b[0m\u001b[0mraw_decode\u001b[0m\u001b[1;33m(\u001b[0m\u001b[0ms\u001b[0m\u001b[1;33m,\u001b[0m \u001b[0midx\u001b[0m\u001b[1;33m=\u001b[0m\u001b[0m_w\u001b[0m\u001b[1;33m(\u001b[0m\u001b[0ms\u001b[0m\u001b[1;33m,\u001b[0m \u001b[1;36m0\u001b[0m\u001b[1;33m)\u001b[0m\u001b[1;33m.\u001b[0m\u001b[0mend\u001b[0m\u001b[1;33m(\u001b[0m\u001b[1;33m)\u001b[0m\u001b[1;33m)\u001b[0m\u001b[1;33m\u001b[0m\u001b[1;33m\u001b[0m\u001b[0m\n\u001b[0m\u001b[0;32m    338\u001b[0m         \u001b[0mend\u001b[0m \u001b[1;33m=\u001b[0m \u001b[0m_w\u001b[0m\u001b[1;33m(\u001b[0m\u001b[0ms\u001b[0m\u001b[1;33m,\u001b[0m \u001b[0mend\u001b[0m\u001b[1;33m)\u001b[0m\u001b[1;33m.\u001b[0m\u001b[0mend\u001b[0m\u001b[1;33m(\u001b[0m\u001b[1;33m)\u001b[0m\u001b[1;33m\u001b[0m\u001b[1;33m\u001b[0m\u001b[0m\n\u001b[0;32m    339\u001b[0m         \u001b[1;32mif\u001b[0m \u001b[0mend\u001b[0m \u001b[1;33m!=\u001b[0m \u001b[0mlen\u001b[0m\u001b[1;33m(\u001b[0m\u001b[0ms\u001b[0m\u001b[1;33m)\u001b[0m\u001b[1;33m:\u001b[0m\u001b[1;33m\u001b[0m\u001b[1;33m\u001b[0m\u001b[0m\n",
      "\u001b[1;32mc:\\Program Files\\Python310\\lib\\json\\decoder.py\u001b[0m in \u001b[0;36mraw_decode\u001b[1;34m(self, s, idx)\u001b[0m\n\u001b[0;32m    351\u001b[0m         \"\"\"\n\u001b[0;32m    352\u001b[0m         \u001b[1;32mtry\u001b[0m\u001b[1;33m:\u001b[0m\u001b[1;33m\u001b[0m\u001b[1;33m\u001b[0m\u001b[0m\n\u001b[1;32m--> 353\u001b[1;33m             \u001b[0mobj\u001b[0m\u001b[1;33m,\u001b[0m \u001b[0mend\u001b[0m \u001b[1;33m=\u001b[0m \u001b[0mself\u001b[0m\u001b[1;33m.\u001b[0m\u001b[0mscan_once\u001b[0m\u001b[1;33m(\u001b[0m\u001b[0ms\u001b[0m\u001b[1;33m,\u001b[0m \u001b[0midx\u001b[0m\u001b[1;33m)\u001b[0m\u001b[1;33m\u001b[0m\u001b[1;33m\u001b[0m\u001b[0m\n\u001b[0m\u001b[0;32m    354\u001b[0m         \u001b[1;32mexcept\u001b[0m \u001b[0mStopIteration\u001b[0m \u001b[1;32mas\u001b[0m \u001b[0merr\u001b[0m\u001b[1;33m:\u001b[0m\u001b[1;33m\u001b[0m\u001b[1;33m\u001b[0m\u001b[0m\n\u001b[0;32m    355\u001b[0m             \u001b[1;32mraise\u001b[0m \u001b[0mJSONDecodeError\u001b[0m\u001b[1;33m(\u001b[0m\u001b[1;34m\"Expecting value\"\u001b[0m\u001b[1;33m,\u001b[0m \u001b[0ms\u001b[0m\u001b[1;33m,\u001b[0m \u001b[0merr\u001b[0m\u001b[1;33m.\u001b[0m\u001b[0mvalue\u001b[0m\u001b[1;33m)\u001b[0m \u001b[1;32mfrom\u001b[0m \u001b[1;32mNone\u001b[0m\u001b[1;33m\u001b[0m\u001b[1;33m\u001b[0m\u001b[0m\n",
      "\u001b[1;31mJSONDecodeError\u001b[0m: Expecting ',' delimiter: line 1 column 1202249541 (char 1202249540)"
     ]
    }
   ],
   "source": [
    "#Pathes\n",
    "cwd = Path.cwd()\n",
    "filesPath = cwd / 'files'\n",
    "pdfPath = cwd / 'pdfs'\n",
    "b2find = jsonHandler(path=Path(filesPath, 'B2Find_corrected.json'),defaultContent=[])\n",
    "dewey = jsonHandler(path=Path(filesPath, 'dewey.json'),defaultContent=[])\n",
    "edocRI = jsonHandler(path=Path(filesPath, 'pdfUrlList.json'),defaultContent=[])\n",
    "KToutput = jsonHandler(path=Path(filesPath, 'Kairntech.json'),defaultContent=[])\n",
    "from IPython.display import clear_output"
   ]
  },
  {
   "cell_type": "code",
   "execution_count": null,
   "metadata": {},
   "outputs": [],
   "source": [
    "def calcEverything(value):\n",
    "    clear_output(wait=True)\n",
    "    global out\n",
    "    global fileSelect\n",
    "\n",
    "    # PDF Picker\n",
    "    glob = pdfPath.glob('**/*')\n",
    "    pdfs = [(f.stem,f) for f in glob if f.is_file()]\n",
    "    fileSelect = widgets.Dropdown(options=pdfs,description='PDFs:',disabled=False,)\n",
    "    fileSelect.observe(calcEverything)\n",
    "    \n",
    "    if value['type'] == 'change' and value['name'] == 'value':\n",
    "        #Pathes\n",
    "        # Load PDF, Edoc-Info and Fulltext\n",
    "        pdf = value.new\n",
    "        researchInfo = [x for x in edocRI if x['filename'] == pdf.stem][0]\n",
    "        doc = fitz.open(pdf)  \n",
    "        pages=[page.get_text(\"text\") for page in doc]\n",
    "        doctext = \" \".join(pages)\n",
    "\n",
    "        if doctext.strip() == '':\n",
    "            print(f\" {pdf.stem}: No Text in PDF - Pick another one\")\n",
    "\n",
    "        # Output files\n",
    "        out = {'title':value.new.stem,\n",
    "                'results':[],\n",
    "                'probs': {},\n",
    "                'details':{},\n",
    "                'modifiyer':\n",
    "                    {'KeywordHit':[],\n",
    "                    'DeweyHit':[]},\n",
    "                'UserKeywords':researchInfo['subjects'],\n",
    "                'DeweyMainCats':[]}\n",
    "        \n",
    "        probDict = {}\n",
    "\n",
    "        for catID,catInfo in tqdm(b2find.items()):\n",
    "            probDict[catID] = 0\n",
    "            # Checking if keywords exist\n",
    "            if catInfo['keywords_de'] == \"-- error --\":\n",
    "                keywords = catInfo['keywords_en']\n",
    "            elif catInfo['keywords_en'] == \"-- error --\":\n",
    "                keywords = catInfo['keywords_de']\n",
    "            else:\n",
    "                keywords = catInfo['keywords_de']+catInfo['keywords_en']\n",
    "            # iterating over the keywords\n",
    "            for kwDict in keywords:\n",
    "                kw = kwDict['Keyword']\n",
    "                prob = kwDict['Wahrscheinlichkeit']\n",
    "                # perfect match FullText\n",
    "                pageCount = int(doc.page_count)\n",
    "                if ' '+kw+' ' in doctext:\n",
    "                    no = str(doctext).count(kw)\n",
    "                    # if no*3 >= pageCount: # Counting a word max once per page\n",
    "                    #     kwCount = pageCount\n",
    "                    # else:\n",
    "                    #     kwCount = no\n",
    "                    kwCount = no\n",
    "                    probDict[catID] += (float(kwCount)*float(prob) / pageCount)\n",
    "                    out['details'][kw] = [{'number':kwCount}]\n",
    "                # Perfect Author Keyword matches\n",
    "                if kw in researchInfo['subjects']:\n",
    "                    out['modifiyer']['KeywordHit'].append(kw)\n",
    "                    probDict[catID] += 10\n",
    "                # perfect Dewey matches\n",
    "                deweyCats = [dewey[x[0]] for x in researchInfo['ddc']]\n",
    "                out['DeweyMainCats'] = deweyCats\n",
    "                if kw in deweyCats:\n",
    "                    out['modifiyer']['DeweyHit'].append(kw)\n",
    "                    probDict[catID] += 2.5\n",
    "\n",
    "        # cleaning\n",
    "        p = { x:y for x,y in probDict.items() if y != 0}\n",
    "        r = [(b2find[k]['name_de'],v) for k,v in p.items() if v > 1]\n",
    "        out['probs'] = p\n",
    "        out['results'] = r\n",
    "\n",
    "        maxProb = max(p.values())\n",
    "        ymax = maxProb+0.1 if maxProb >= 1 else None\n",
    "        if ymax != None:\n",
    "            if ymax*0.3 < 1:\n",
    "                ymin = 1\n",
    "            else:\n",
    "                ymin = ymax*0.3\n",
    "        else:\n",
    "            ymin = None\n",
    "\n",
    "        def plot():\n",
    "            df = pd.DataFrame([out['probs']]).T.reset_index()\n",
    "            df = df.rename({'index': \"Categories\", 0: \"Probability\"},axis='columns')\n",
    "            df['CatNames'] = df['Categories'].apply(lambda x: b2find[x]['name_de'])\n",
    "\n",
    "            title = text=out['title']\n",
    "            userKeywords = ''\n",
    "            if out['UserKeywords'] != []:\n",
    "                userKeywords+= '<br><sup>UserKeywords:</sup>'\n",
    "            for kw in out['UserKeywords']:\n",
    "                userKeywords+= '<br><sup>'+kw+'</sup>'\n",
    "            deweyKeywords = ''\n",
    "            if out['DeweyMainCats'] != []:\n",
    "                deweyKeywords+= '<br><sup>DeweyCategories:</sup>'\n",
    "            for kw in out['DeweyMainCats']:\n",
    "                deweyKeywords+= '<br><sup>'+kw+'</sup>'\n",
    "            \n",
    "            fig = px.bar(df,x='Categories',y='Probability', color=\"CatNames\",width=1600, height=800)\n",
    "\n",
    "            fig.update_layout(\n",
    "                title=dict(text=title,\n",
    "                        font=dict(size=12)),\n",
    "                        annotations=[\n",
    "                            go.layout.Annotation(\n",
    "                                text=userKeywords,\n",
    "                                align='left',\n",
    "                                showarrow=False,\n",
    "                                xref='paper',\n",
    "                                yref='paper',\n",
    "                                xanchor= 'right',\n",
    "                                yanchor='bottom',\n",
    "                                x=1.2,\n",
    "                                y=0,\n",
    "                                bordercolor='white',\n",
    "                                borderwidth=1,\n",
    "                                hovertext='User Keywords'\n",
    "                            ),\n",
    "                            go.layout.Annotation(\n",
    "                                text=deweyKeywords,\n",
    "                                align='left',\n",
    "                                showarrow=False,\n",
    "                                xref='paper',\n",
    "                                yref='paper',\n",
    "                                xanchor= 'right',\n",
    "                                yanchor='bottom',\n",
    "                                x=1.5,\n",
    "                                y=0,\n",
    "                                bordercolor='white',\n",
    "                                borderwidth=1,\n",
    "                                hovertext='Dewey Categories'\n",
    "                            )])\n",
    "            fig.update_layout(yaxis_range=[ymin,ymax])\n",
    "            return fig\n",
    "        if ymin != None:\n",
    "            display(fileSelect)\n",
    "            plot().show()\n",
    "        else:\n",
    "            print('No Results found')\n",
    "        results = 'Results:  \\n\\n'\n",
    "        for x in out['results']:\n",
    "            results+=x[0]+' '+str(x[1])+'  \\n'\n",
    "\n",
    "        display(Markdown(results))\n",
    "        display(out)"
   ]
  },
  {
   "cell_type": "code",
   "execution_count": null,
   "metadata": {},
   "outputs": [
    {
     "name": "stderr",
     "output_type": "stream",
     "text": [
      "100%|██████████| 336/336 [00:00<00:00, 371.74it/s]\n"
     ]
    },
    {
     "data": {
      "application/vnd.jupyter.widget-view+json": {
       "model_id": "ae2f091c8650433c890ed91e365f0546",
       "version_major": 2,
       "version_minor": 0
      },
      "text/plain": [
       "Dropdown(description='PDFs:', options=(('1-band-1517-1530', WindowsPath('c:/Users/Florian Kotschka/gitlab/bua-…"
      ]
     },
     "metadata": {},
     "output_type": "display_data"
    },
    {
     "data": {
      "application/vnd.plotly.v1+json": {
       "config": {
        "plotlyServerURL": "https://plot.ly"
       },
       "data": [
        {
         "alignmentgroup": "True",
         "hovertemplate": "CatNames=Praktische Philosophie<br>Categories=%{x}<br>Probability=%{y}<extra></extra>",
         "legendgroup": "Praktische Philosophie",
         "marker": {
          "color": "#636efa",
          "pattern": {
           "shape": ""
          }
         },
         "name": "Praktische Philosophie",
         "offsetgroup": "Praktische Philosophie",
         "orientation": "v",
         "showlegend": true,
         "textposition": "auto",
         "type": "bar",
         "x": [
          "b2find#1.8.3"
         ],
         "xaxis": "x",
         "y": [
          0.0005
         ],
         "yaxis": "y"
        },
        {
         "alignmentgroup": "True",
         "hovertemplate": "CatNames=Empirische Sozialforschung<br>Categories=%{x}<br>Probability=%{y}<extra></extra>",
         "legendgroup": "Empirische Sozialforschung",
         "marker": {
          "color": "#EF553B",
          "pattern": {
           "shape": ""
          }
         },
         "name": "Empirische Sozialforschung",
         "offsetgroup": "Empirische Sozialforschung",
         "orientation": "v",
         "showlegend": true,
         "textposition": "auto",
         "type": "bar",
         "x": [
          "b2find#2.3.2"
         ],
         "xaxis": "x",
         "y": [
          0.00175
         ],
         "yaxis": "y"
        },
        {
         "alignmentgroup": "True",
         "hovertemplate": "CatNames=Biochemie<br>Categories=%{x}<br>Probability=%{y}<extra></extra>",
         "legendgroup": "Biochemie",
         "marker": {
          "color": "#00cc96",
          "pattern": {
           "shape": ""
          }
         },
         "name": "Biochemie",
         "offsetgroup": "Biochemie",
         "orientation": "v",
         "showlegend": true,
         "textposition": "auto",
         "type": "bar",
         "x": [
          "b2find#3.1.1.01"
         ],
         "xaxis": "x",
         "y": [
          0.625
         ],
         "yaxis": "y"
        },
        {
         "alignmentgroup": "True",
         "hovertemplate": "CatNames=Pflanzensystematik Und Evolution<br>Categories=%{x}<br>Probability=%{y}<extra></extra>",
         "legendgroup": "Pflanzensystematik Und Evolution",
         "marker": {
          "color": "#ab63fa",
          "pattern": {
           "shape": ""
          }
         },
         "name": "Pflanzensystematik Und Evolution",
         "offsetgroup": "Pflanzensystematik Und Evolution",
         "orientation": "v",
         "showlegend": true,
         "textposition": "auto",
         "type": "bar",
         "x": [
          "b2find#3.1.2.01"
         ],
         "xaxis": "x",
         "y": [
          0.0625
         ],
         "yaxis": "y"
        },
        {
         "alignmentgroup": "True",
         "hovertemplate": "CatNames=Pflanzenbiochemie Und Biophysik<br>Categories=%{x}<br>Probability=%{y}<extra></extra>",
         "legendgroup": "Pflanzenbiochemie Und Biophysik",
         "marker": {
          "color": "#FFA15A",
          "pattern": {
           "shape": ""
          }
         },
         "name": "Pflanzenbiochemie Und Biophysik",
         "offsetgroup": "Pflanzenbiochemie Und Biophysik",
         "orientation": "v",
         "showlegend": true,
         "textposition": "auto",
         "type": "bar",
         "x": [
          "b2find#3.1.2.05"
         ],
         "xaxis": "x",
         "y": [
          0.5249999999999999
         ],
         "yaxis": "y"
        },
        {
         "alignmentgroup": "True",
         "hovertemplate": "CatNames=Evolution, Anthropologie<br>Categories=%{x}<br>Probability=%{y}<extra></extra>",
         "legendgroup": "Evolution, Anthropologie",
         "marker": {
          "color": "#19d3f3",
          "pattern": {
           "shape": ""
          }
         },
         "name": "Evolution, Anthropologie",
         "offsetgroup": "Evolution, Anthropologie",
         "orientation": "v",
         "showlegend": true,
         "textposition": "auto",
         "type": "bar",
         "x": [
          "b2find#3.1.3.02"
         ],
         "xaxis": "x",
         "y": [
          0.09375
         ],
         "yaxis": "y"
        },
        {
         "alignmentgroup": "True",
         "hovertemplate": "CatNames=Biochemie Und Tierphysiologie<br>Categories=%{x}<br>Probability=%{y}<extra></extra>",
         "legendgroup": "Biochemie Und Tierphysiologie",
         "marker": {
          "color": "#FF6692",
          "pattern": {
           "shape": ""
          }
         },
         "name": "Biochemie Und Tierphysiologie",
         "offsetgroup": "Biochemie Und Tierphysiologie",
         "orientation": "v",
         "showlegend": true,
         "textposition": "auto",
         "type": "bar",
         "x": [
          "b2find#3.1.3.05"
         ],
         "xaxis": "x",
         "y": [
          0.6000000000000001
         ],
         "yaxis": "y"
        },
        {
         "alignmentgroup": "True",
         "hovertemplate": "CatNames=Klinische Chemie Und Pathobiochemie<br>Categories=%{x}<br>Probability=%{y}<extra></extra>",
         "legendgroup": "Klinische Chemie Und Pathobiochemie",
         "marker": {
          "color": "#B6E880",
          "pattern": {
           "shape": ""
          }
         },
         "name": "Klinische Chemie Und Pathobiochemie",
         "offsetgroup": "Klinische Chemie Und Pathobiochemie",
         "orientation": "v",
         "showlegend": true,
         "textposition": "auto",
         "type": "bar",
         "x": [
          "b2find#3.2.2.07"
         ],
         "xaxis": "x",
         "y": [
          0.40625
         ],
         "yaxis": "y"
        },
        {
         "alignmentgroup": "True",
         "hovertemplate": "CatNames=Anästhesiologie<br>Categories=%{x}<br>Probability=%{y}<extra></extra>",
         "legendgroup": "Anästhesiologie",
         "marker": {
          "color": "#FF97FF",
          "pattern": {
           "shape": ""
          }
         },
         "name": "Anästhesiologie",
         "offsetgroup": "Anästhesiologie",
         "orientation": "v",
         "showlegend": true,
         "textposition": "auto",
         "type": "bar",
         "x": [
          "b2find#3.2.2.11"
         ],
         "xaxis": "x",
         "y": [
          0.27499999999999997
         ],
         "yaxis": "y"
        },
        {
         "alignmentgroup": "True",
         "hovertemplate": "CatNames=Urologie<br>Categories=%{x}<br>Probability=%{y}<extra></extra>",
         "legendgroup": "Urologie",
         "marker": {
          "color": "#FECB52",
          "pattern": {
           "shape": ""
          }
         },
         "name": "Urologie",
         "offsetgroup": "Urologie",
         "orientation": "v",
         "showlegend": true,
         "textposition": "auto",
         "type": "bar",
         "x": [
          "b2find#3.2.2.23"
         ],
         "xaxis": "x",
         "y": [
          0.4125
         ],
         "yaxis": "y"
        },
        {
         "alignmentgroup": "True",
         "hovertemplate": "CatNames=Pflanzenernährung<br>Categories=%{x}<br>Probability=%{y}<extra></extra>",
         "legendgroup": "Pflanzenernährung",
         "marker": {
          "color": "#636efa",
          "pattern": {
           "shape": ""
          }
         },
         "name": "Pflanzenernährung",
         "offsetgroup": "Pflanzenernährung",
         "orientation": "v",
         "showlegend": true,
         "textposition": "auto",
         "type": "bar",
         "x": [
          "b2find#3.3.1.03"
         ],
         "xaxis": "x",
         "y": [
          0.2
         ],
         "yaxis": "y"
        },
        {
         "alignmentgroup": "True",
         "hovertemplate": "CatNames=Tierernährung Und Ernährungsphysiologie<br>Categories=%{x}<br>Probability=%{y}<extra></extra>",
         "legendgroup": "Tierernährung Und Ernährungsphysiologie",
         "marker": {
          "color": "#EF553B",
          "pattern": {
           "shape": ""
          }
         },
         "name": "Tierernährung Und Ernährungsphysiologie",
         "offsetgroup": "Tierernährung Und Ernährungsphysiologie",
         "orientation": "v",
         "showlegend": true,
         "textposition": "auto",
         "type": "bar",
         "x": [
          "b2find#3.3.2.02"
         ],
         "xaxis": "x",
         "y": [
          1
         ],
         "yaxis": "y"
        },
        {
         "alignmentgroup": "True",
         "hovertemplate": "CatNames=Analytische Chemie, Methodenentwicklung<br>Categories=%{x}<br>Probability=%{y}<extra></extra>",
         "legendgroup": "Analytische Chemie, Methodenentwicklung",
         "marker": {
          "color": "#00cc96",
          "pattern": {
           "shape": ""
          }
         },
         "name": "Analytische Chemie, Methodenentwicklung",
         "offsetgroup": "Analytische Chemie, Methodenentwicklung",
         "orientation": "v",
         "showlegend": true,
         "textposition": "auto",
         "type": "bar",
         "x": [
          "b2find#4.1.4"
         ],
         "xaxis": "x",
         "y": [
          1.1
         ],
         "yaxis": "y"
        },
        {
         "alignmentgroup": "True",
         "hovertemplate": "CatNames=Lebensmittelchemie<br>Categories=%{x}<br>Probability=%{y}<extra></extra>",
         "legendgroup": "Lebensmittelchemie",
         "marker": {
          "color": "#ab63fa",
          "pattern": {
           "shape": ""
          }
         },
         "name": "Lebensmittelchemie",
         "offsetgroup": "Lebensmittelchemie",
         "orientation": "v",
         "showlegend": true,
         "textposition": "auto",
         "type": "bar",
         "x": [
          "b2find#4.1.5.02"
         ],
         "xaxis": "x",
         "y": [
          0.675
         ],
         "yaxis": "y"
        },
        {
         "alignmentgroup": "True",
         "hovertemplate": "CatNames=Optik, Quantenoptik Und Physik Der Atome, Moleküle Und Plasmen<br>Categories=%{x}<br>Probability=%{y}<extra></extra>",
         "legendgroup": "Optik, Quantenoptik Und Physik Der Atome, Moleküle Und Plasmen",
         "marker": {
          "color": "#FFA15A",
          "pattern": {
           "shape": ""
          }
         },
         "name": "Optik, Quantenoptik Und Physik Der Atome, Moleküle Und Plasmen",
         "offsetgroup": "Optik, Quantenoptik Und Physik Der Atome, Moleküle Und Plasmen",
         "orientation": "v",
         "showlegend": true,
         "textposition": "auto",
         "type": "bar",
         "x": [
          "b2find#4.2.2"
         ],
         "xaxis": "x",
         "y": [
          1.9250000000000003
         ],
         "yaxis": "y"
        },
        {
         "alignmentgroup": "True",
         "hovertemplate": "CatNames=Solar-terrestrische Interaktion, Weltraumwetter<br>Categories=%{x}<br>Probability=%{y}<extra></extra>",
         "legendgroup": "Solar-terrestrische Interaktion, Weltraumwetter",
         "marker": {
          "color": "#19d3f3",
          "pattern": {
           "shape": ""
          }
         },
         "name": "Solar-terrestrische Interaktion, Weltraumwetter",
         "offsetgroup": "Solar-terrestrische Interaktion, Weltraumwetter",
         "orientation": "v",
         "showlegend": true,
         "textposition": "auto",
         "type": "bar",
         "x": [
          "b2find#4.2.6.03"
         ],
         "xaxis": "x",
         "y": [
          0.05625
         ],
         "yaxis": "y"
        },
        {
         "alignmentgroup": "True",
         "hovertemplate": "CatNames=Biogeographie<br>Categories=%{x}<br>Probability=%{y}<extra></extra>",
         "legendgroup": "Biogeographie",
         "marker": {
          "color": "#FF6692",
          "pattern": {
           "shape": ""
          }
         },
         "name": "Biogeographie",
         "offsetgroup": "Biogeographie",
         "orientation": "v",
         "showlegend": true,
         "textposition": "auto",
         "type": "bar",
         "x": [
          "b2find#4.4.2.02"
         ],
         "xaxis": "x",
         "y": [
          0.10625
         ],
         "yaxis": "y"
        },
        {
         "alignmentgroup": "True",
         "hovertemplate": "CatNames=Chemische Und Thermische Verfahrenstechnik<br>Categories=%{x}<br>Probability=%{y}<extra></extra>",
         "legendgroup": "Chemische Und Thermische Verfahrenstechnik",
         "marker": {
          "color": "#B6E880",
          "pattern": {
           "shape": ""
          }
         },
         "name": "Chemische Und Thermische Verfahrenstechnik",
         "offsetgroup": "Chemische Und Thermische Verfahrenstechnik",
         "orientation": "v",
         "showlegend": true,
         "textposition": "auto",
         "type": "bar",
         "x": [
          "b2find#5.2.1.01"
         ],
         "xaxis": "x",
         "y": [
          0.10625
         ],
         "yaxis": "y"
        },
        {
         "alignmentgroup": "True",
         "hovertemplate": "CatNames=Mechanisches Verhalten Von Baustoffen<br>Categories=%{x}<br>Probability=%{y}<extra></extra>",
         "legendgroup": "Mechanisches Verhalten Von Baustoffen",
         "marker": {
          "color": "#FF97FF",
          "pattern": {
           "shape": ""
          }
         },
         "name": "Mechanisches Verhalten Von Baustoffen",
         "offsetgroup": "Mechanisches Verhalten Von Baustoffen",
         "orientation": "v",
         "showlegend": true,
         "textposition": "auto",
         "type": "bar",
         "x": [
          "b2find#5.3.1.04"
         ],
         "xaxis": "x",
         "y": [
          0.7875
         ],
         "yaxis": "y"
        },
        {
         "alignmentgroup": "True",
         "hovertemplate": "CatNames=Angewandte Mechanik, Statik Und Dynamik<br>Categories=%{x}<br>Probability=%{y}<extra></extra>",
         "legendgroup": "Angewandte Mechanik, Statik Und Dynamik",
         "marker": {
          "color": "#FECB52",
          "pattern": {
           "shape": ""
          }
         },
         "name": "Angewandte Mechanik, Statik Und Dynamik",
         "offsetgroup": "Angewandte Mechanik, Statik Und Dynamik",
         "orientation": "v",
         "showlegend": true,
         "textposition": "auto",
         "type": "bar",
         "x": [
          "b2find#5.5.5"
         ],
         "xaxis": "x",
         "y": [
          0.275
         ],
         "yaxis": "y"
        },
        {
         "alignmentgroup": "True",
         "hovertemplate": "CatNames=Naturwissenschaften<br>Categories=%{x}<br>Probability=%{y}<extra></extra>",
         "legendgroup": "Naturwissenschaften",
         "marker": {
          "color": "#636efa",
          "pattern": {
           "shape": ""
          }
         },
         "name": "Naturwissenschaften",
         "offsetgroup": "Naturwissenschaften",
         "orientation": "v",
         "showlegend": true,
         "textposition": "auto",
         "type": "bar",
         "x": [
          "b2find#4"
         ],
         "xaxis": "x",
         "y": [
          0.43124999999999997
         ],
         "yaxis": "y"
        },
        {
         "alignmentgroup": "True",
         "hovertemplate": "CatNames=Biologische Chemie Und Lebensmittelchemie<br>Categories=%{x}<br>Probability=%{y}<extra></extra>",
         "legendgroup": "Biologische Chemie Und Lebensmittelchemie",
         "marker": {
          "color": "#EF553B",
          "pattern": {
           "shape": ""
          }
         },
         "name": "Biologische Chemie Und Lebensmittelchemie",
         "offsetgroup": "Biologische Chemie Und Lebensmittelchemie",
         "orientation": "v",
         "showlegend": true,
         "textposition": "auto",
         "type": "bar",
         "x": [
          "b2find#4.1.5"
         ],
         "xaxis": "x",
         "y": [
          0.51
         ],
         "yaxis": "y"
        },
        {
         "alignmentgroup": "True",
         "hovertemplate": "CatNames=Medizin<br>Categories=%{x}<br>Probability=%{y}<extra></extra>",
         "legendgroup": "Medizin",
         "marker": {
          "color": "#00cc96",
          "pattern": {
           "shape": ""
          }
         },
         "name": "Medizin",
         "offsetgroup": "Medizin",
         "orientation": "v",
         "showlegend": true,
         "textposition": "auto",
         "type": "bar",
         "x": [
          "b2find#3.2.2"
         ],
         "xaxis": "x",
         "y": [
          0.7125
         ],
         "yaxis": "y"
        },
        {
         "alignmentgroup": "True",
         "hovertemplate": "CatNames=Informatik, Elektro- Und Systemtechnik<br>Categories=%{x}<br>Probability=%{y}<extra></extra>",
         "legendgroup": "Informatik, Elektro- Und Systemtechnik",
         "marker": {
          "color": "#ab63fa",
          "pattern": {
           "shape": ""
          }
         },
         "name": "Informatik, Elektro- Und Systemtechnik",
         "offsetgroup": "Informatik, Elektro- Und Systemtechnik",
         "orientation": "v",
         "showlegend": true,
         "textposition": "auto",
         "type": "bar",
         "x": [
          "b2find#5.4"
         ],
         "xaxis": "x",
         "y": [
          0.1
         ],
         "yaxis": "y"
        },
        {
         "alignmentgroup": "True",
         "hovertemplate": "CatNames=Sozial- Und Verhaltenswissenschaften<br>Categories=%{x}<br>Probability=%{y}<extra></extra>",
         "legendgroup": "Sozial- Und Verhaltenswissenschaften",
         "marker": {
          "color": "#FFA15A",
          "pattern": {
           "shape": ""
          }
         },
         "name": "Sozial- Und Verhaltenswissenschaften",
         "offsetgroup": "Sozial- Und Verhaltenswissenschaften",
         "orientation": "v",
         "showlegend": true,
         "textposition": "auto",
         "type": "bar",
         "x": [
          "b2find#2"
         ],
         "xaxis": "x",
         "y": [
          0.1125
         ],
         "yaxis": "y"
        },
        {
         "alignmentgroup": "True",
         "hovertemplate": "CatNames=Weltraumphysik<br>Categories=%{x}<br>Probability=%{y}<extra></extra>",
         "legendgroup": "Weltraumphysik",
         "marker": {
          "color": "#19d3f3",
          "pattern": {
           "shape": ""
          }
         },
         "name": "Weltraumphysik",
         "offsetgroup": "Weltraumphysik",
         "orientation": "v",
         "showlegend": true,
         "textposition": "auto",
         "type": "bar",
         "x": [
          "b2find#4.2.6"
         ],
         "xaxis": "x",
         "y": [
          0.08125
         ],
         "yaxis": "y"
        },
        {
         "alignmentgroup": "True",
         "hovertemplate": "CatNames=Mathematik<br>Categories=%{x}<br>Probability=%{y}<extra></extra>",
         "legendgroup": "Mathematik",
         "marker": {
          "color": "#FF6692",
          "pattern": {
           "shape": ""
          }
         },
         "name": "Mathematik",
         "offsetgroup": "Mathematik",
         "orientation": "v",
         "showlegend": true,
         "textposition": "auto",
         "type": "bar",
         "x": [
          "b2find#4.3"
         ],
         "xaxis": "x",
         "y": [
          0.0875
         ],
         "yaxis": "y"
        },
        {
         "alignmentgroup": "True",
         "hovertemplate": "CatNames=Informatik<br>Categories=%{x}<br>Probability=%{y}<extra></extra>",
         "legendgroup": "Informatik",
         "marker": {
          "color": "#B6E880",
          "pattern": {
           "shape": ""
          }
         },
         "name": "Informatik",
         "offsetgroup": "Informatik",
         "orientation": "v",
         "showlegend": true,
         "textposition": "auto",
         "type": "bar",
         "x": [
          "b2find#5.4.3"
         ],
         "xaxis": "x",
         "y": [
          0.1125
         ],
         "yaxis": "y"
        }
       ],
       "layout": {
        "annotations": [
         {
          "align": "left",
          "bordercolor": "white",
          "borderwidth": 1,
          "hovertext": "User Keywords",
          "showarrow": false,
          "text": "",
          "x": 1.2,
          "xanchor": "right",
          "xref": "paper",
          "y": 0,
          "yanchor": "bottom",
          "yref": "paper"
         },
         {
          "align": "left",
          "bordercolor": "white",
          "borderwidth": 1,
          "hovertext": "Dewey Categories",
          "showarrow": false,
          "text": "",
          "x": 1.5,
          "xanchor": "right",
          "xref": "paper",
          "y": 0,
          "yanchor": "bottom",
          "yref": "paper"
         }
        ],
        "barmode": "relative",
        "height": 800,
        "legend": {
         "title": {
          "text": "CatNames"
         },
         "tracegroupgap": 0
        },
        "margin": {
         "t": 60
        },
        "template": {
         "data": {
          "bar": [
           {
            "error_x": {
             "color": "#2a3f5f"
            },
            "error_y": {
             "color": "#2a3f5f"
            },
            "marker": {
             "line": {
              "color": "#E5ECF6",
              "width": 0.5
             },
             "pattern": {
              "fillmode": "overlay",
              "size": 10,
              "solidity": 0.2
             }
            },
            "type": "bar"
           }
          ],
          "barpolar": [
           {
            "marker": {
             "line": {
              "color": "#E5ECF6",
              "width": 0.5
             },
             "pattern": {
              "fillmode": "overlay",
              "size": 10,
              "solidity": 0.2
             }
            },
            "type": "barpolar"
           }
          ],
          "carpet": [
           {
            "aaxis": {
             "endlinecolor": "#2a3f5f",
             "gridcolor": "white",
             "linecolor": "white",
             "minorgridcolor": "white",
             "startlinecolor": "#2a3f5f"
            },
            "baxis": {
             "endlinecolor": "#2a3f5f",
             "gridcolor": "white",
             "linecolor": "white",
             "minorgridcolor": "white",
             "startlinecolor": "#2a3f5f"
            },
            "type": "carpet"
           }
          ],
          "choropleth": [
           {
            "colorbar": {
             "outlinewidth": 0,
             "ticks": ""
            },
            "type": "choropleth"
           }
          ],
          "contour": [
           {
            "colorbar": {
             "outlinewidth": 0,
             "ticks": ""
            },
            "colorscale": [
             [
              0,
              "#0d0887"
             ],
             [
              0.1111111111111111,
              "#46039f"
             ],
             [
              0.2222222222222222,
              "#7201a8"
             ],
             [
              0.3333333333333333,
              "#9c179e"
             ],
             [
              0.4444444444444444,
              "#bd3786"
             ],
             [
              0.5555555555555556,
              "#d8576b"
             ],
             [
              0.6666666666666666,
              "#ed7953"
             ],
             [
              0.7777777777777778,
              "#fb9f3a"
             ],
             [
              0.8888888888888888,
              "#fdca26"
             ],
             [
              1,
              "#f0f921"
             ]
            ],
            "type": "contour"
           }
          ],
          "contourcarpet": [
           {
            "colorbar": {
             "outlinewidth": 0,
             "ticks": ""
            },
            "type": "contourcarpet"
           }
          ],
          "heatmap": [
           {
            "colorbar": {
             "outlinewidth": 0,
             "ticks": ""
            },
            "colorscale": [
             [
              0,
              "#0d0887"
             ],
             [
              0.1111111111111111,
              "#46039f"
             ],
             [
              0.2222222222222222,
              "#7201a8"
             ],
             [
              0.3333333333333333,
              "#9c179e"
             ],
             [
              0.4444444444444444,
              "#bd3786"
             ],
             [
              0.5555555555555556,
              "#d8576b"
             ],
             [
              0.6666666666666666,
              "#ed7953"
             ],
             [
              0.7777777777777778,
              "#fb9f3a"
             ],
             [
              0.8888888888888888,
              "#fdca26"
             ],
             [
              1,
              "#f0f921"
             ]
            ],
            "type": "heatmap"
           }
          ],
          "heatmapgl": [
           {
            "colorbar": {
             "outlinewidth": 0,
             "ticks": ""
            },
            "colorscale": [
             [
              0,
              "#0d0887"
             ],
             [
              0.1111111111111111,
              "#46039f"
             ],
             [
              0.2222222222222222,
              "#7201a8"
             ],
             [
              0.3333333333333333,
              "#9c179e"
             ],
             [
              0.4444444444444444,
              "#bd3786"
             ],
             [
              0.5555555555555556,
              "#d8576b"
             ],
             [
              0.6666666666666666,
              "#ed7953"
             ],
             [
              0.7777777777777778,
              "#fb9f3a"
             ],
             [
              0.8888888888888888,
              "#fdca26"
             ],
             [
              1,
              "#f0f921"
             ]
            ],
            "type": "heatmapgl"
           }
          ],
          "histogram": [
           {
            "marker": {
             "pattern": {
              "fillmode": "overlay",
              "size": 10,
              "solidity": 0.2
             }
            },
            "type": "histogram"
           }
          ],
          "histogram2d": [
           {
            "colorbar": {
             "outlinewidth": 0,
             "ticks": ""
            },
            "colorscale": [
             [
              0,
              "#0d0887"
             ],
             [
              0.1111111111111111,
              "#46039f"
             ],
             [
              0.2222222222222222,
              "#7201a8"
             ],
             [
              0.3333333333333333,
              "#9c179e"
             ],
             [
              0.4444444444444444,
              "#bd3786"
             ],
             [
              0.5555555555555556,
              "#d8576b"
             ],
             [
              0.6666666666666666,
              "#ed7953"
             ],
             [
              0.7777777777777778,
              "#fb9f3a"
             ],
             [
              0.8888888888888888,
              "#fdca26"
             ],
             [
              1,
              "#f0f921"
             ]
            ],
            "type": "histogram2d"
           }
          ],
          "histogram2dcontour": [
           {
            "colorbar": {
             "outlinewidth": 0,
             "ticks": ""
            },
            "colorscale": [
             [
              0,
              "#0d0887"
             ],
             [
              0.1111111111111111,
              "#46039f"
             ],
             [
              0.2222222222222222,
              "#7201a8"
             ],
             [
              0.3333333333333333,
              "#9c179e"
             ],
             [
              0.4444444444444444,
              "#bd3786"
             ],
             [
              0.5555555555555556,
              "#d8576b"
             ],
             [
              0.6666666666666666,
              "#ed7953"
             ],
             [
              0.7777777777777778,
              "#fb9f3a"
             ],
             [
              0.8888888888888888,
              "#fdca26"
             ],
             [
              1,
              "#f0f921"
             ]
            ],
            "type": "histogram2dcontour"
           }
          ],
          "mesh3d": [
           {
            "colorbar": {
             "outlinewidth": 0,
             "ticks": ""
            },
            "type": "mesh3d"
           }
          ],
          "parcoords": [
           {
            "line": {
             "colorbar": {
              "outlinewidth": 0,
              "ticks": ""
             }
            },
            "type": "parcoords"
           }
          ],
          "pie": [
           {
            "automargin": true,
            "type": "pie"
           }
          ],
          "scatter": [
           {
            "fillpattern": {
             "fillmode": "overlay",
             "size": 10,
             "solidity": 0.2
            },
            "type": "scatter"
           }
          ],
          "scatter3d": [
           {
            "line": {
             "colorbar": {
              "outlinewidth": 0,
              "ticks": ""
             }
            },
            "marker": {
             "colorbar": {
              "outlinewidth": 0,
              "ticks": ""
             }
            },
            "type": "scatter3d"
           }
          ],
          "scattercarpet": [
           {
            "marker": {
             "colorbar": {
              "outlinewidth": 0,
              "ticks": ""
             }
            },
            "type": "scattercarpet"
           }
          ],
          "scattergeo": [
           {
            "marker": {
             "colorbar": {
              "outlinewidth": 0,
              "ticks": ""
             }
            },
            "type": "scattergeo"
           }
          ],
          "scattergl": [
           {
            "marker": {
             "colorbar": {
              "outlinewidth": 0,
              "ticks": ""
             }
            },
            "type": "scattergl"
           }
          ],
          "scattermapbox": [
           {
            "marker": {
             "colorbar": {
              "outlinewidth": 0,
              "ticks": ""
             }
            },
            "type": "scattermapbox"
           }
          ],
          "scatterpolar": [
           {
            "marker": {
             "colorbar": {
              "outlinewidth": 0,
              "ticks": ""
             }
            },
            "type": "scatterpolar"
           }
          ],
          "scatterpolargl": [
           {
            "marker": {
             "colorbar": {
              "outlinewidth": 0,
              "ticks": ""
             }
            },
            "type": "scatterpolargl"
           }
          ],
          "scatterternary": [
           {
            "marker": {
             "colorbar": {
              "outlinewidth": 0,
              "ticks": ""
             }
            },
            "type": "scatterternary"
           }
          ],
          "surface": [
           {
            "colorbar": {
             "outlinewidth": 0,
             "ticks": ""
            },
            "colorscale": [
             [
              0,
              "#0d0887"
             ],
             [
              0.1111111111111111,
              "#46039f"
             ],
             [
              0.2222222222222222,
              "#7201a8"
             ],
             [
              0.3333333333333333,
              "#9c179e"
             ],
             [
              0.4444444444444444,
              "#bd3786"
             ],
             [
              0.5555555555555556,
              "#d8576b"
             ],
             [
              0.6666666666666666,
              "#ed7953"
             ],
             [
              0.7777777777777778,
              "#fb9f3a"
             ],
             [
              0.8888888888888888,
              "#fdca26"
             ],
             [
              1,
              "#f0f921"
             ]
            ],
            "type": "surface"
           }
          ],
          "table": [
           {
            "cells": {
             "fill": {
              "color": "#EBF0F8"
             },
             "line": {
              "color": "white"
             }
            },
            "header": {
             "fill": {
              "color": "#C8D4E3"
             },
             "line": {
              "color": "white"
             }
            },
            "type": "table"
           }
          ]
         },
         "layout": {
          "annotationdefaults": {
           "arrowcolor": "#2a3f5f",
           "arrowhead": 0,
           "arrowwidth": 1
          },
          "autotypenumbers": "strict",
          "coloraxis": {
           "colorbar": {
            "outlinewidth": 0,
            "ticks": ""
           }
          },
          "colorscale": {
           "diverging": [
            [
             0,
             "#8e0152"
            ],
            [
             0.1,
             "#c51b7d"
            ],
            [
             0.2,
             "#de77ae"
            ],
            [
             0.3,
             "#f1b6da"
            ],
            [
             0.4,
             "#fde0ef"
            ],
            [
             0.5,
             "#f7f7f7"
            ],
            [
             0.6,
             "#e6f5d0"
            ],
            [
             0.7,
             "#b8e186"
            ],
            [
             0.8,
             "#7fbc41"
            ],
            [
             0.9,
             "#4d9221"
            ],
            [
             1,
             "#276419"
            ]
           ],
           "sequential": [
            [
             0,
             "#0d0887"
            ],
            [
             0.1111111111111111,
             "#46039f"
            ],
            [
             0.2222222222222222,
             "#7201a8"
            ],
            [
             0.3333333333333333,
             "#9c179e"
            ],
            [
             0.4444444444444444,
             "#bd3786"
            ],
            [
             0.5555555555555556,
             "#d8576b"
            ],
            [
             0.6666666666666666,
             "#ed7953"
            ],
            [
             0.7777777777777778,
             "#fb9f3a"
            ],
            [
             0.8888888888888888,
             "#fdca26"
            ],
            [
             1,
             "#f0f921"
            ]
           ],
           "sequentialminus": [
            [
             0,
             "#0d0887"
            ],
            [
             0.1111111111111111,
             "#46039f"
            ],
            [
             0.2222222222222222,
             "#7201a8"
            ],
            [
             0.3333333333333333,
             "#9c179e"
            ],
            [
             0.4444444444444444,
             "#bd3786"
            ],
            [
             0.5555555555555556,
             "#d8576b"
            ],
            [
             0.6666666666666666,
             "#ed7953"
            ],
            [
             0.7777777777777778,
             "#fb9f3a"
            ],
            [
             0.8888888888888888,
             "#fdca26"
            ],
            [
             1,
             "#f0f921"
            ]
           ]
          },
          "colorway": [
           "#636efa",
           "#EF553B",
           "#00cc96",
           "#ab63fa",
           "#FFA15A",
           "#19d3f3",
           "#FF6692",
           "#B6E880",
           "#FF97FF",
           "#FECB52"
          ],
          "font": {
           "color": "#2a3f5f"
          },
          "geo": {
           "bgcolor": "white",
           "lakecolor": "white",
           "landcolor": "#E5ECF6",
           "showlakes": true,
           "showland": true,
           "subunitcolor": "white"
          },
          "hoverlabel": {
           "align": "left"
          },
          "hovermode": "closest",
          "mapbox": {
           "style": "light"
          },
          "paper_bgcolor": "white",
          "plot_bgcolor": "#E5ECF6",
          "polar": {
           "angularaxis": {
            "gridcolor": "white",
            "linecolor": "white",
            "ticks": ""
           },
           "bgcolor": "#E5ECF6",
           "radialaxis": {
            "gridcolor": "white",
            "linecolor": "white",
            "ticks": ""
           }
          },
          "scene": {
           "xaxis": {
            "backgroundcolor": "#E5ECF6",
            "gridcolor": "white",
            "gridwidth": 2,
            "linecolor": "white",
            "showbackground": true,
            "ticks": "",
            "zerolinecolor": "white"
           },
           "yaxis": {
            "backgroundcolor": "#E5ECF6",
            "gridcolor": "white",
            "gridwidth": 2,
            "linecolor": "white",
            "showbackground": true,
            "ticks": "",
            "zerolinecolor": "white"
           },
           "zaxis": {
            "backgroundcolor": "#E5ECF6",
            "gridcolor": "white",
            "gridwidth": 2,
            "linecolor": "white",
            "showbackground": true,
            "ticks": "",
            "zerolinecolor": "white"
           }
          },
          "shapedefaults": {
           "line": {
            "color": "#2a3f5f"
           }
          },
          "ternary": {
           "aaxis": {
            "gridcolor": "white",
            "linecolor": "white",
            "ticks": ""
           },
           "baxis": {
            "gridcolor": "white",
            "linecolor": "white",
            "ticks": ""
           },
           "bgcolor": "#E5ECF6",
           "caxis": {
            "gridcolor": "white",
            "linecolor": "white",
            "ticks": ""
           }
          },
          "title": {
           "x": 0.05
          },
          "xaxis": {
           "automargin": true,
           "gridcolor": "white",
           "linecolor": "white",
           "ticks": "",
           "title": {
            "standoff": 15
           },
           "zerolinecolor": "white",
           "zerolinewidth": 2
          },
          "yaxis": {
           "automargin": true,
           "gridcolor": "white",
           "linecolor": "white",
           "ticks": "",
           "title": {
            "standoff": 15
           },
           "zerolinecolor": "white",
           "zerolinewidth": 2
          }
         }
        },
        "title": {
         "font": {
          "size": 12
         },
         "text": "automated-enzymatic-methods-for-creatinine-measurement-with-special-attention-to-bilirubin-interference"
        },
        "width": 1600,
        "xaxis": {
         "anchor": "y",
         "domain": [
          0,
          1
         ],
         "title": {
          "text": "Categories"
         }
        },
        "yaxis": {
         "anchor": "x",
         "domain": [
          0,
          1
         ],
         "range": [
          1,
          2.0250000000000004
         ],
         "title": {
          "text": "Probability"
         }
        }
       }
      }
     },
     "metadata": {},
     "output_type": "display_data"
    },
    {
     "data": {
      "text/markdown": [
       "Results:  \n",
       "\n",
       "Analytische Chemie, Methodenentwicklung 1.1  \n",
       "Optik, Quantenoptik Und Physik Der Atome, Moleküle Und Plasmen 1.9250000000000003  \n"
      ],
      "text/plain": [
       "<IPython.core.display.Markdown object>"
      ]
     },
     "metadata": {},
     "output_type": "display_data"
    },
    {
     "data": {
      "text/plain": [
       "{'title': 'automated-enzymatic-methods-for-creatinine-measurement-with-special-attention-to-bilirubin-interference',\n",
       " 'results': [('Analytische Chemie, Methodenentwicklung', 1.1),\n",
       "  ('Optik, Quantenoptik Und Physik Der Atome, Moleküle Und Plasmen',\n",
       "   1.9250000000000003)],\n",
       " 'probs': {'b2find#1.8.3': 0.0005,\n",
       "  'b2find#2.3.2': 0.00175,\n",
       "  'b2find#3.1.1.01': 0.625,\n",
       "  'b2find#3.1.2.01': 0.0625,\n",
       "  'b2find#3.1.2.05': 0.5249999999999999,\n",
       "  'b2find#3.1.3.02': 0.09375,\n",
       "  'b2find#3.1.3.05': 0.6000000000000001,\n",
       "  'b2find#3.2.2.07': 0.40625,\n",
       "  'b2find#3.2.2.11': 0.27499999999999997,\n",
       "  'b2find#3.2.2.23': 0.4125,\n",
       "  'b2find#3.3.1.03': 0.2,\n",
       "  'b2find#3.3.2.02': 1.0,\n",
       "  'b2find#4.1.4': 1.1,\n",
       "  'b2find#4.1.5.02': 0.675,\n",
       "  'b2find#4.2.2': 1.9250000000000003,\n",
       "  'b2find#4.2.6.03': 0.05625,\n",
       "  'b2find#4.4.2.02': 0.10625,\n",
       "  'b2find#5.2.1.01': 0.10625,\n",
       "  'b2find#5.3.1.04': 0.7875,\n",
       "  'b2find#5.5.5': 0.275,\n",
       "  'b2find#4': 0.43124999999999997,\n",
       "  'b2find#4.1.5': 0.51,\n",
       "  'b2find#3.2.2': 0.7125,\n",
       "  'b2find#5.4': 0.1,\n",
       "  'b2find#2': 0.1125,\n",
       "  'b2find#4.2.6': 0.08125,\n",
       "  'b2find#4.3': 0.0875,\n",
       "  'b2find#5.4.3': 0.1125},\n",
       " 'details': {'values': [{'number': 1}],\n",
       "  'good': [{'number': 3}],\n",
       "  'sample': [{'number': 14}],\n",
       "  'enzyme': [{'number': 4}],\n",
       "  'reduction': [{'number': 2}],\n",
       "  'Adaptation': [{'number': 1}],\n",
       "  'lipids': [{'number': 6}],\n",
       "  'Clinical Chemistry': [{'number': 5}],\n",
       "  'intravenous': [{'number': 1}],\n",
       "  'monitored': [{'number': 1}],\n",
       "  'urine': [{'number': 2}],\n",
       "  'renal': [{'number': 2}],\n",
       "  'potassium': [{'number': 2}],\n",
       "  'water': [{'number': 4}],\n",
       "  'HPLC': [{'number': 11}],\n",
       "  'interference': [{'number': 28}],\n",
       "  'plasma': [{'number': 1}],\n",
       "  'Chemie': [{'number': 1}],\n",
       "  'yield': [{'number': 9}],\n",
       "  'force': [{'number': 1}],\n",
       "  'stability': [{'number': 2}],\n",
       "  'chemistry': [{'number': 3}],\n",
       "  'patient': [{'number': 5}],\n",
       "  'medicine': [{'number': 1}],\n",
       "  'diagnostic': [{'number': 1}],\n",
       "  'algorithm': [{'number': 1}],\n",
       "  'economics': [{'number': 1}],\n",
       "  'optimization': [{'number': 1}]},\n",
       " 'modifiyer': {'KeywordHit': [], 'DeweyHit': []},\n",
       " 'UserKeywords': [],\n",
       " 'DeweyMainCats': []}"
      ]
     },
     "metadata": {},
     "output_type": "display_data"
    }
   ],
   "source": [
    "# PDF Picker\n",
    "glob = pdfPath.glob('**/*')\n",
    "pdfs = [(f.stem,f) for f in glob if f.is_file()][:100]\n",
    "fileSelect = widgets.Dropdown(options=pdfs,description='PDFs:',disabled=False,)\n",
    "fileSelect.observe(calcEverything)\n",
    "fileSelect"
   ]
  },
  {
   "cell_type": "code",
   "execution_count": null,
   "metadata": {},
   "outputs": [
    {
     "data": {
      "text/plain": [
       "40"
      ]
     },
     "execution_count": 2,
     "metadata": {},
     "output_type": "execute_result"
    }
   ],
   "source": []
  },
  {
   "cell_type": "code",
   "execution_count": null,
   "metadata": {},
   "outputs": [],
   "source": []
  }
 ],
 "metadata": {
  "kernelspec": {
   "display_name": "Python 3",
   "language": "python",
   "name": "python3"
  },
  "language_info": {
   "codemirror_mode": {
    "name": "ipython",
    "version": 3
   },
   "file_extension": ".py",
   "mimetype": "text/x-python",
   "name": "python",
   "nbconvert_exporter": "python",
   "pygments_lexer": "ipython3",
   "version": "3.10.0"
  },
  "orig_nbformat": 4
 },
 "nbformat": 4,
 "nbformat_minor": 2
}
